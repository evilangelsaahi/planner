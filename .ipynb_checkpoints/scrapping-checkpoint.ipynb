{
 "cells": [
  {
   "cell_type": "code",
   "execution_count": 32,
   "id": "ba11b3e0-2c0c-47ad-bd02-c47e0439a483",
   "metadata": {},
   "outputs": [],
   "source": [
    "import requests\n",
    "from lxml import html\n",
    "from bs4 import BeautifulSoup"
   ]
  },
  {
   "cell_type": "code",
   "execution_count": 42,
   "id": "013521c3-f141-4fc7-973b-fcb278ffa527",
   "metadata": {},
   "outputs": [],
   "source": [
    "query = \"python\"\n",
    "location = \"Canada\"\n",
    "url = f\"https://ca.indeed.com/jobs?q={query}&l={location}\"\n",
    "headers = {\"User-Agent\":\"Mozilla/5.0 (Macintosh; Intel Mac OS X 12_4) AppleWebKit/605.1.15 (KHTML, like Gecko) Version/15.4 Safari/605.1.15\"}"
   ]
  },
  {
   "cell_type": "code",
   "execution_count": 46,
   "id": "7662f7a3-42a1-4f6f-806d-9198d9bdadcf",
   "metadata": {},
   "outputs": [
    {
     "data": {
      "text/plain": [
       "['Software Development (All Levels)',\n",
       " 'Junior Python Developer',\n",
       " 'Junior Python Developer',\n",
       " 'Python/Django Developer',\n",
       " 'Information Security Analyst',\n",
       " 'Python Developer',\n",
       " 'Information Security Analyst - Remote/Hybrid - CISSP',\n",
       " 'Python/Django Developer (Telecommute)',\n",
       " 'IT Security Officer',\n",
       " 'Python Developer',\n",
       " 'Python Developer',\n",
       " 'Python Web Developer',\n",
       " 'Senior Server Developer (Python and Django)',\n",
       " 'Python Developer',\n",
       " 'Python Developers']"
      ]
     },
     "execution_count": 46,
     "metadata": {},
     "output_type": "execute_result"
    }
   ],
   "source": [
    "def extract(url, headers):\n",
    "    page = requests.get(url, headers)\n",
    "    soup = BeautifulSoup(page.content, 'html.parser')\n",
    "    divs = soup.find_all('div', class_ = 'job_seen_beacon')\n",
    "    res = []\n",
    "    for item in divs:\n",
    "        res.append(item.find('a').text.strip())\n",
    "    return res\n",
    "\n",
    "extract(url, headers)"
   ]
  }
 ],
 "metadata": {
  "kernelspec": {
   "display_name": "Python 3 (ipykernel)",
   "language": "python",
   "name": "python3"
  },
  "language_info": {
   "codemirror_mode": {
    "name": "ipython",
    "version": 3
   },
   "file_extension": ".py",
   "mimetype": "text/x-python",
   "name": "python",
   "nbconvert_exporter": "python",
   "pygments_lexer": "ipython3",
   "version": "3.9.12"
  }
 },
 "nbformat": 4,
 "nbformat_minor": 5
}
